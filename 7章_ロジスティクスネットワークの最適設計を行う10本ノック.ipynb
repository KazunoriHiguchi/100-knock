{
  "cells": [
    {
      "cell_type": "markdown",
      "metadata": {
        "id": "view-in-github",
        "colab_type": "text"
      },
      "source": [
        "<a href=\"https://colab.research.google.com/github/KazunoriHiguchi/100-knock/blob/main/7%E7%AB%A0_%E3%83%AD%E3%82%B7%E3%82%99%E3%82%B9%E3%83%86%E3%82%A3%E3%82%AF%E3%82%B9%E3%83%8D%E3%83%83%E3%83%88%E3%83%AF%E3%83%BC%E3%82%AF%E3%81%AE%E6%9C%80%E9%81%A9%E8%A8%AD%E8%A8%88%E3%82%92%E8%A1%8C%E3%81%8610%E6%9C%AC%E3%83%8E%E3%83%83%E3%82%AF.ipynb\" target=\"_parent\"><img src=\"https://colab.research.google.com/assets/colab-badge.svg\" alt=\"Open In Colab\"/></a>"
      ]
    },
    {
      "cell_type": "code",
      "source": [
        "# Google Driveと接続を行います。これを行うことで、Driveにあるデータにアクセスできるようになります。\n",
        "# 下記セルを実行すると、Googleアカウントのログインを求められますのでログインしてください。\n",
        "from google.colab import drive\n",
        "drive.mount('/content/drive')"
      ],
      "metadata": {
        "id": "uk5SZovzLfjX",
        "colab": {
          "base_uri": "https://localhost:8080/"
        },
        "outputId": "286f5ec3-1aaf-4fcc-e026-86d7263b3502"
      },
      "execution_count": 2,
      "outputs": [
        {
          "output_type": "stream",
          "name": "stdout",
          "text": [
            "Mounted at /content/drive\n"
          ]
        }
      ]
    },
    {
      "cell_type": "code",
      "source": [
        "# 作業フォルダへの移動を行います。\n",
        "# 人によって作業場所がことなるので、その場合作業場所を変更してください。\n",
        "import os \n",
        "os.chdir('/content/drive/MyDrive/100knock-data_analytics/7章') #ここを変更。"
      ],
      "metadata": {
        "id": "wIZNjA_0LgfN"
      },
      "execution_count": 3,
      "outputs": []
    },
    {
      "cell_type": "markdown",
      "metadata": {
        "id": "S0m3EV2sLevt"
      },
      "source": [
        "# 7章 ロジスティクスネットワークの最適設計を行う10本ノック\n",
        "\n",
        "ここでは、最適化計算を行ういくつかのライブラリを用いて、最適化計算を実際に行っていきます。  \n",
        "そして、前章で用いたネットワーク可視化などの技術を駆使し、計算結果の妥当性を確認する方法についても学んでいきます。"
      ]
    },
    {
      "cell_type": "markdown",
      "metadata": {
        "id": "DlzzpnaZLevu"
      },
      "source": [
        "### ノック６１：輸送最適化問題を解いてみよう"
      ]
    },
    {
      "cell_type": "code",
      "execution_count": 4,
      "metadata": {
        "id": "gbSduWAsLevu",
        "colab": {
          "base_uri": "https://localhost:8080/"
        },
        "outputId": "cab76022-f4d2-488b-9770-777f46cdeb58"
      },
      "outputs": [
        {
          "output_type": "stream",
          "name": "stdout",
          "text": [
            "Looking in indexes: https://pypi.org/simple, https://us-python.pkg.dev/colab-wheels/public/simple/\n",
            "Collecting pulp\n",
            "  Downloading PuLP-2.7.0-py3-none-any.whl (14.3 MB)\n",
            "\u001b[2K     \u001b[90m━━━━━━━━━━━━━━━━━━━━━━━━━━━━━━━━━━━━━━━━\u001b[0m \u001b[32m14.3/14.3 MB\u001b[0m \u001b[31m32.2 MB/s\u001b[0m eta \u001b[36m0:00:00\u001b[0m\n",
            "\u001b[?25hInstalling collected packages: pulp\n",
            "Successfully installed pulp-2.7.0\n",
            "Looking in indexes: https://pypi.org/simple, https://us-python.pkg.dev/colab-wheels/public/simple/\n",
            "Collecting ortoolpy\n",
            "  Downloading ortoolpy-0.3.0-py3-none-any.whl (24 kB)\n",
            "Requirement already satisfied: pulp<3.0.0,>=2.6.0 in /usr/local/lib/python3.9/dist-packages (from ortoolpy) (2.7.0)\n",
            "Requirement already satisfied: pandas<2.0.0,>=1.4.0 in /usr/local/lib/python3.9/dist-packages (from ortoolpy) (1.4.4)\n",
            "Collecting more-itertools<9.0.0,>=8.12.0\n",
            "  Downloading more_itertools-8.14.0-py3-none-any.whl (52 kB)\n",
            "\u001b[2K     \u001b[90m━━━━━━━━━━━━━━━━━━━━━━━━━━━━━━━━━━━━━━━━\u001b[0m \u001b[32m52.2/52.2 KB\u001b[0m \u001b[31m3.8 MB/s\u001b[0m eta \u001b[36m0:00:00\u001b[0m\n",
            "\u001b[?25hRequirement already satisfied: numpy>=1.18.5 in /usr/local/lib/python3.9/dist-packages (from pandas<2.0.0,>=1.4.0->ortoolpy) (1.22.4)\n",
            "Requirement already satisfied: python-dateutil>=2.8.1 in /usr/local/lib/python3.9/dist-packages (from pandas<2.0.0,>=1.4.0->ortoolpy) (2.8.2)\n",
            "Requirement already satisfied: pytz>=2020.1 in /usr/local/lib/python3.9/dist-packages (from pandas<2.0.0,>=1.4.0->ortoolpy) (2022.7.1)\n",
            "Requirement already satisfied: six>=1.5 in /usr/local/lib/python3.9/dist-packages (from python-dateutil>=2.8.1->pandas<2.0.0,>=1.4.0->ortoolpy) (1.15.0)\n",
            "Installing collected packages: more-itertools, ortoolpy\n",
            "  Attempting uninstall: more-itertools\n",
            "    Found existing installation: more-itertools 9.1.0\n",
            "    Uninstalling more-itertools-9.1.0:\n",
            "      Successfully uninstalled more-itertools-9.1.0\n",
            "Successfully installed more-itertools-8.14.0 ortoolpy-0.3.0\n"
          ]
        }
      ],
      "source": [
        "!pip install pulp\n",
        "!pip install ortoolpy"
      ]
    },
    {
      "cell_type": "code",
      "source": [
        "import numpy as np\n",
        "import pandas as pd\n",
        "from itertools import product\n",
        "from pulp import LpVariable, lpSum, value\n",
        "from ortoolpy import model_min, addvars, addvals\n",
        "\n",
        "#データ読み込み\n",
        "df_tc = pd.read_csv('trans_cost.csv', index_col = \"工場\")\n",
        "df_demand = pd.read_csv('demand.csv')\n",
        "df_supply = pd.read_csv('supply.csv')\n",
        "\n",
        "#初期設定\n",
        "np.random.seed(1)\n",
        "nw = len(df_tc.index)\n",
        "nf = len(df_tc.columns)\n",
        "pr = list(product(range(nw), range(nf)))\n",
        "\n",
        "#数理モデル作成\n",
        "m1 = model_min()\n",
        "v1 = {(i,j):LpVariable('v%d_%d'%(i,j), lowBound=0) for i,j in pr}\n",
        "\n",
        "m1 += lpSum(df_tc.iloc[i][j]*v1[i,j] for i,j in pr)\n",
        "for i in range(nw):\n",
        "  m1 += lpSum(v1[i,j] for j in range(nf)) <= df_supply.iloc[0][i]\n",
        "for j in range(nf):\n",
        "  m1 += lpSum(v1[i,j] for i in range(nw)) >= df_demand.iloc[0][j]\n",
        "m1.solve()\n",
        "\n",
        "#総コスト計算\n",
        "df_tr_sol = df_tc.copy()\n",
        "total_cost = 0\n",
        "for k,x in v1.items():\n",
        "  i,j = k[0],k[1]\n",
        "  df_tr_sol.iloc[i][j] = value(x)\n",
        "  total_cost += df_tc.iloc[i][j]*value(x)\n",
        "\n",
        "print(df_tr_sol)\n",
        "print(\"総輸送コスト：\" +str(total_cost))"
      ],
      "metadata": {
        "colab": {
          "base_uri": "https://localhost:8080/"
        },
        "id": "mIf6ZLvZZKwU",
        "outputId": "9547d068-1b83-4a42-ab52-cdeaddb07754"
      },
      "execution_count": 5,
      "outputs": [
        {
          "output_type": "stream",
          "name": "stdout",
          "text": [
            "    F1  F2  F3  F4\n",
            "工場                \n",
            "W1  28   7   0   0\n",
            "W2   0   0  31   5\n",
            "W3   0  22   0  20\n",
            "総輸送コスト：1296.0\n"
          ]
        }
      ]
    },
    {
      "cell_type": "markdown",
      "metadata": {
        "id": "7h6gYEX9Levv"
      },
      "source": [
        "### ノック６２：最適輸送ルートをネットワークで確認しよう"
      ]
    },
    {
      "cell_type": "code",
      "execution_count": 6,
      "metadata": {
        "id": "q15oafrwLevv",
        "colab": {
          "base_uri": "https://localhost:8080/",
          "height": 319
        },
        "outputId": "441d5002-7b35-4508-c43f-bed14c6e479f"
      },
      "outputs": [
        {
          "output_type": "display_data",
          "data": {
            "text/plain": [
              "<Figure size 432x288 with 1 Axes>"
            ],
            "image/png": "[encoded data removed]"
          },
          "metadata": {}
        }
      ],
      "source": [
        "import matplotlib.pyplot as plt\n",
        "import networkx as nx\n",
        "\n",
        "#データの読み込み\n",
        "df_tr = df_tr_sol.copy()\n",
        "df_pos = pd.read_csv('trans_route_pos.csv')\n",
        "\n",
        "#グラフオブジェクトの作成\n",
        "G = nx.Graph()\n",
        "\n",
        "#頂点の設定\n",
        "for i in range(len(df_pos.columns)):\n",
        "  G.add_node(df_pos.columns[i])\n",
        "\n",
        "#辺の設定&エッジの重みのリスト化\n",
        "num_pre = 0\n",
        "edge_weights = []\n",
        "size = 0.1\n",
        "for i in range(len(df_pos.columns)):\n",
        "  for j in range(len(df_pos.columns)):\n",
        "    if not (i == j):\n",
        "      #辺の追加\n",
        "      G.add_edge(df_pos.columns[i], df_pos.columns[j])\n",
        "      #エッジの重みの追加\n",
        "      if num_pre<len(G.edges):\n",
        "        num_pre = len(G.edges)\n",
        "        weight = 0\n",
        "        if (df_pos.columns[i] in df_tr.columns) and (df_pos.columns[j] in df_tr.index):\n",
        "          if df_tr[df_pos.columns[i]][df_pos.columns[j]]:\n",
        "            weight = df_tr[df_pos.columns[i]][df_pos.columns[j]]*size\n",
        "        elif (df_pos.columns[j] in df_tr.columns) and (df_pos.columns[i] in df_tr.index):\n",
        "          if df_tr[df_pos.columns[j]][df_pos.columns[i]]:\n",
        "            weight = df_tr[df_pos.columns[j]][df_pos.columns[i]]*size\n",
        "        edge_weights.append(weight)\n",
        "\n",
        "#座標の設定\n",
        "pos = {}\n",
        "for i in range(len(df_pos.columns)):\n",
        "  node = df_pos.columns[i]\n",
        "  pos[node] = (df_pos[node][0], df_pos[node][1])\n",
        "\n",
        "#描画\n",
        "nx.draw(G, pos, with_labels=True, font_size=16, node_size=1000, node_color='k', font_color='w', width=edge_weights)\n",
        "\n",
        "#表示\n",
        "plt.show()\n",
        "\n",
        "#ノック57のネットワーク図と比べると, 輸送経路の集約化がなされていることがわかる\n"
      ]
    },
    {
      "cell_type": "markdown",
      "metadata": {
        "id": "HW_M4YaoLevv"
      },
      "source": [
        "### ノック６３：最適輸送ルートが制約条件内に収まっているかどうかを確認しよう"
      ]
    },
    {
      "cell_type": "code",
      "execution_count": 7,
      "metadata": {
        "id": "52IbGV40Levv",
        "colab": {
          "base_uri": "https://localhost:8080/"
        },
        "outputId": "8b414ca6-17c3-474e-92d2-2ca737ac4699"
      },
      "outputs": [
        {
          "output_type": "stream",
          "name": "stdout",
          "text": [
            "需要条件計算結果：[1. 1. 1. 1.]\n",
            "供給条件計算結果：[1. 1. 1.]\n"
          ]
        }
      ],
      "source": [
        "#データの読み込み\n",
        "df_demand = pd.read_csv('demand.csv')\n",
        "df_supply = pd.read_csv('supply.csv')\n",
        "\n",
        "#制約条件計算関数\n",
        "#需要側\n",
        "def condition_demand(df_tr, df_demand):\n",
        "  flag = np.zeros(len(df_demand.columns))\n",
        "  for i in range(len(df_demand.columns)):\n",
        "    temp_sum = sum(df_tr[df_demand.columns[i]])\n",
        "    if (temp_sum >= df_demand.iloc[0][i]):\n",
        "      flag[i] = 1\n",
        "  return flag\n",
        "\n",
        "#供給側\n",
        "def condition_supply(df_tr, df_supply):\n",
        "  flag = np.zeros(len(df_supply.columns))\n",
        "  for i in range(len(df_supply.columns)):\n",
        "    temp_sum = sum(df_tr.loc[df_supply.columns[i]])\n",
        "    if temp_sum <= df_supply.iloc[0][i]:\n",
        "      flag[i] = 1\n",
        "  return flag\n",
        "\n",
        "print(\"需要条件計算結果：\" + str(condition_demand(df_tr_sol, df_demand)))\n",
        "print(\"供給条件計算結果：\" + str(condition_supply(df_tr_sol, df_supply)))"
      ]
    },
    {
      "cell_type": "markdown",
      "metadata": {
        "id": "m90MKWqfLevv"
      },
      "source": [
        "### ノック６４：生産計画に関するデータを読み込んでみよう"
      ]
    },
    {
      "cell_type": "code",
      "execution_count": 8,
      "metadata": {
        "id": "NESXuqc0Levv",
        "colab": {
          "base_uri": "https://localhost:8080/"
        },
        "outputId": "f0421195-2b50-4069-ed70-403fea3b581a"
      },
      "outputs": [
        {
          "output_type": "stream",
          "name": "stdout",
          "text": [
            "     原料1  原料2  原料3\n",
            "製品                \n",
            "製品1    1    4    3\n",
            "製品2    2    4    1\n",
            "      利益\n",
            "製品      \n",
            "製品1  5.0\n",
            "製品2  4.0\n",
            "    原料1  原料2  原料3\n",
            "項目               \n",
            "在庫   40   80   50\n",
            "      生産量\n",
            "製品       \n",
            "製品1    16\n",
            "製品2     0\n"
          ]
        }
      ],
      "source": [
        "df_material = pd.read_csv('product_plan_material.csv', index_col = \"製品\")\n",
        "print(df_material)\n",
        "df_profit = pd.read_csv('product_plan_profit.csv', index_col = \"製品\")\n",
        "print(df_profit)\n",
        "df_stock = pd.read_csv('product_plan_stock.csv', index_col = \"項目\")\n",
        "print(df_stock)\n",
        "df_plan = pd.read_csv('product_plan.csv', index_col = \"製品\")\n",
        "print(df_plan)"
      ]
    },
    {
      "cell_type": "markdown",
      "metadata": {
        "id": "tA58Po-JLevw"
      },
      "source": [
        "### ノック６５：利益を計算する関数を作ってみよう"
      ]
    },
    {
      "cell_type": "code",
      "execution_count": 9,
      "metadata": {
        "id": "b-WbTaSvLevw",
        "colab": {
          "base_uri": "https://localhost:8080/"
        },
        "outputId": "70c81763-4f11-44c0-f8ca-6dbeb178d024"
      },
      "outputs": [
        {
          "output_type": "stream",
          "name": "stdout",
          "text": [
            "総利益：80.0\n"
          ]
        }
      ],
      "source": [
        "\n",
        "\n",
        "def product_plan(df_profit, df_plan):\n",
        "  profit = 0\n",
        "  for i in range(len(df_profit.index)):\n",
        "    for j in range(len(df_plan.columns)):\n",
        "      profit += df_profit.iloc[i][j]*df_plan.iloc[i][j]\n",
        "  return profit\n",
        "\n",
        "print(\"総利益：\" + str(product_plan(df_profit, df_plan)))"
      ]
    },
    {
      "cell_type": "markdown",
      "metadata": {
        "id": "SoKD6-0TLevw"
      },
      "source": [
        "### ノック６６：生産最適化問題を解いてみよう"
      ]
    },
    {
      "cell_type": "code",
      "execution_count": 14,
      "metadata": {
        "id": "soewz566Levw",
        "colab": {
          "base_uri": "https://localhost:8080/"
        },
        "outputId": "6398b7a8-e0df-46f4-add9-f7a01d3630db"
      },
      "outputs": [
        {
          "output_type": "stream",
          "name": "stdout",
          "text": [
            "      生産量\n",
            "製品       \n",
            "製品1    15\n",
            "製品2     5\n",
            "総利益：95.0\n"
          ]
        }
      ],
      "source": [
        "from pulp import LpVariable, lpSum, value\n",
        "from ortoolpy import model_max, addvars, addvals\n",
        "\n",
        "df = df_material.copy()\n",
        "inv = df_stock\n",
        "\n",
        "m = model_max()\n",
        "v1 = {(i):LpVariable('v%d'%(i),lowBound=0) for i in range(len(df_profit))}\n",
        "m += lpSum(df_profit.iloc[i]*v1[i] for i in range(len(df_profit)))\n",
        "for i in range(len(df_material.columns)):\n",
        "  m += lpSum(df_material.iloc[j,i]*v1[j] for j in range(len(df_profit))) <= df_stock.iloc[:,i]\n",
        "m.solve()\n",
        "\n",
        "df_plan_sol = df_plan.copy()\n",
        "for k,x in v1.items():\n",
        "  df_plan_sol.iloc[k] = value(x)\n",
        "print(df_plan_sol)\n",
        "print(\"総利益：\" +str(value(m.objective)))"
      ]
    },
    {
      "cell_type": "markdown",
      "metadata": {
        "id": "mBHVC4wFLevw"
      },
      "source": [
        "### ノック６７：最適生産計画が制約条件内に収まっているかどうかを確認しよう"
      ]
    },
    {
      "cell_type": "code",
      "execution_count": 16,
      "metadata": {
        "id": "g4N8fOmTLevw",
        "colab": {
          "base_uri": "https://localhost:8080/"
        },
        "outputId": "ddbb9c7c-00bd-428e-b1d9-329cb8045344"
      },
      "outputs": [
        {
          "output_type": "stream",
          "name": "stdout",
          "text": [
            "原料1使用量：25.0、在庫：40.0\n",
            "原料2使用量：80.0、在庫：80.0\n",
            "原料3使用量：50.0、在庫：50.0\n",
            "制約条件計算結果：[1. 1. 1.]\n"
          ]
        }
      ],
      "source": [
        "#制約関数計算関数\n",
        "def condition_stock(df_plan, df_material, df_stock):\n",
        "  flag = np.zeros(len(df_material.columns))\n",
        "  for i in range(len(df_material.columns)):\n",
        "    temp_sum = 0\n",
        "    for j in range(len(df_material.index)):\n",
        "      temp_sum = temp_sum + df_material.iloc[j][i]*float(df_plan.iloc[j])\n",
        "    if (temp_sum <= float(df_stock.iloc[0][i])):\n",
        "      flag[i]=1\n",
        "    print(df_material.columns[i]+\"使用量：\"+str(temp_sum)+\"、在庫：\"+str(float(df_stock.iloc[0][i])))\n",
        "  return flag\n",
        "\n",
        "print(\"制約条件計算結果：\"+str(condition_stock(df_plan_sol, df_material, df_stock)))"
      ]
    },
    {
      "cell_type": "markdown",
      "metadata": {
        "id": "4Tt3n0_ILevw"
      },
      "source": [
        "### ノック６８：ロジスティクスネットワーク設計問題を解いてみよう"
      ]
    },
    {
      "cell_type": "code",
      "execution_count": 22,
      "metadata": {
        "id": "9ZL6E4fJLevw",
        "colab": {
          "base_uri": "https://localhost:8080/"
        },
        "outputId": "199b35c0-e6e2-4353-8a2c-3d0f1e9793a2"
      },
      "outputs": [
        {
          "output_type": "stream",
          "name": "stdout",
          "text": [
            "  需要地 工場  輸送費\n",
            "0   P  X    1\n",
            "1   P  Y    2\n",
            "2   Q  X    3\n",
            "3   Q  Y    1\n",
            "  需要地 製品  需要\n",
            "0   P  A  10\n",
            "1   P  B  10\n",
            "2   Q  A  20\n",
            "3   Q  B  20\n",
            "  工場  レーン 製品  下限    上限  生産費\n",
            "0  X    0  A   0   inf  1.0\n",
            "3  X    1  B   0   inf  1.0\n",
            "4  Y    0  A   0  10.0  3.0\n",
            "6  Y    1  A   0   inf  5.0\n",
            "7  Y    1  B   0   inf  3.0\n",
            "  工場  レーン 製品  下限    上限  生産費     VarY  ValY\n",
            "0  X    0  A   0   inf  1.0  v000035  20.0\n",
            "3  X    1  B   0   inf  1.0  v000036  10.0\n",
            "4  Y    0  A   0  10.0  3.0  v000037  10.0\n",
            "6  Y    1  A   0   inf  5.0  v000038   0.0\n",
            "7  Y    1  B   0   inf  3.0  v000039  20.0\n",
            "  需要地 工場  輸送費 製品     VarX  ValX\n",
            "0   P  X    1  A  v000027  10.0\n",
            "1   P  X    1  B  v000028  10.0\n",
            "2   Q  X    3  A  v000029  10.0\n",
            "3   Q  X    3  B  v000030   0.0\n",
            "4   P  Y    2  A  v000031   0.0\n",
            "5   P  Y    2  B  v000032   0.0\n",
            "6   Q  Y    1  A  v000033  10.0\n",
            "7   Q  Y    1  B  v000034  20.0\n"
          ]
        },
        {
          "output_type": "stream",
          "name": "stderr",
          "text": [
            "/usr/local/lib/python3.9/dist-packages/ortoolpy/etc.py:1213: FutureWarning: In a future version of pandas all arguments of concat except for the argument 'objs' will be keyword-only.\n",
            "  tbsm = pd.concat([tbdi2.groupby(facprd).VarX.sum(), tbfa.groupby(facprd).VarY.sum()], 1)\n"
          ]
        }
      ],
      "source": [
        "製品=list('AB')\n",
        "需要地=list('PQ')\n",
        "工場=list('XY')\n",
        "レーン=(2,2)\n",
        "\n",
        "#輸送費表#\n",
        "tbdi=pd.DataFrame(((j,k) for j in 需要地 for k in 工場), columns=['需要地', '工場'])\n",
        "tbdi['輸送費']=[1,2,3,1]\n",
        "print(tbdi)\n",
        "\n",
        "#需要表#\n",
        "tbde=pd.DataFrame(((j,i) for j in 需要地 for i in 製品), columns=['需要地', '製品'])\n",
        "tbde['需要']=[10,10,20,20]\n",
        "print(tbde)\n",
        "\n",
        "#生産表#\n",
        "tbfa=pd.DataFrame(((k,l,i,0,np.inf) for k,nl in zip(工場,レーン) for l in range(nl) for i in 製品),\n",
        "                  columns=['工場','レーン','製品','下限','上限'])\n",
        "tbfa['生産費']=[1,np.nan,np.nan,1,3,np.nan,5,3]\n",
        "tbfa.dropna(inplace=True)\n",
        "tbfa.loc[4,'上限']=10\n",
        "print(tbfa)\n",
        "\n",
        "from ortoolpy import logistics_network\n",
        "_, tbdi2, _ = logistics_network(tbde, tbdi, tbfa)\n",
        "print(tbfa)\n",
        "print(tbdi2)"
      ]
    },
    {
      "cell_type": "markdown",
      "metadata": {
        "id": "rosRiCd1Levx"
      },
      "source": [
        "### ノック６９：最適ネットワークにおける輸送コストとその内訳を計算しよう"
      ]
    },
    {
      "cell_type": "code",
      "execution_count": 25,
      "metadata": {
        "id": "dGLb0Sk2Levx",
        "colab": {
          "base_uri": "https://localhost:8080/"
        },
        "outputId": "98991620-2e04-4506-d7b5-cd89ead1df02"
      },
      "outputs": [
        {
          "output_type": "stream",
          "name": "stdout",
          "text": [
            "  需要地 工場  輸送費 製品     VarX  ValX\n",
            "0   P  X    1  A  v000027  10.0\n",
            "1   P  X    1  B  v000028  10.0\n",
            "2   Q  X    3  A  v000029  10.0\n",
            "3   Q  X    3  B  v000030   0.0\n",
            "4   P  Y    2  A  v000031   0.0\n",
            "5   P  Y    2  B  v000032   0.0\n",
            "6   Q  Y    1  A  v000033  10.0\n",
            "7   Q  Y    1  B  v000034  20.0\n",
            "総輸送コスト:80.0\n"
          ]
        }
      ],
      "source": [
        "print(tbdi2)\n",
        "trans_cost=0\n",
        "for i in range(len(tbdi2.index)):\n",
        "  trans_cost+=tbdi2[\"輸送費\"].iloc[i]*tbdi2[\"ValX\"].iloc[i]\n",
        "print(\"総輸送コスト:\" + str(trans_cost))"
      ]
    },
    {
      "cell_type": "markdown",
      "metadata": {
        "id": "QKL6ZJ13Levx"
      },
      "source": [
        "### ノック７０：最適ネットワークにおける生産コストとその内訳を計算しよう"
      ]
    },
    {
      "cell_type": "code",
      "execution_count": 29,
      "metadata": {
        "id": "pms3fFC-Levx",
        "colab": {
          "base_uri": "https://localhost:8080/"
        },
        "outputId": "0dc29f4d-4b71-4cd0-eba5-a73c610fdb81"
      },
      "outputs": [
        {
          "output_type": "stream",
          "name": "stdout",
          "text": [
            "  工場  レーン 製品  下限    上限  生産費     VarY  ValY\n",
            "0  X    0  A   0   inf  1.0  v000035  20.0\n",
            "3  X    1  B   0   inf  1.0  v000036  10.0\n",
            "4  Y    0  A   0  10.0  3.0  v000037  10.0\n",
            "6  Y    1  A   0   inf  5.0  v000038   0.0\n",
            "7  Y    1  B   0   inf  3.0  v000039  20.0\n",
            "総生産コスト:120.0\n"
          ]
        }
      ],
      "source": [
        "print(tbfa)\n",
        "product_cost=0\n",
        "for i in range(len(tbfa.index)):\n",
        "  product_cost += tbfa[\"生産費\"].iloc[i]*tbfa[\"ValY\"].iloc[i]\n",
        "print(\"総生産コスト:\"+str(product_cost))"
      ]
    },
    {
      "cell_type": "code",
      "source": [],
      "metadata": {
        "id": "mD7i1M9E5wIE"
      },
      "execution_count": null,
      "outputs": []
    }
  ],
  "metadata": {
    "kernelspec": {
      "display_name": "Python 3",
      "language": "python",
      "name": "python3"
    },
    "language_info": {
      "codemirror_mode": {
        "name": "ipython",
        "version": 3
      },
      "file_extension": ".py",
      "mimetype": "text/x-python",
      "name": "python",
      "nbconvert_exporter": "python",
      "pygments_lexer": "ipython3",
      "version": "3.6.4"
    },
    "colab": {
      "provenance": [],
      "include_colab_link": true
    }
  },
  "nbformat": 4,
  "nbformat_minor": 0
}